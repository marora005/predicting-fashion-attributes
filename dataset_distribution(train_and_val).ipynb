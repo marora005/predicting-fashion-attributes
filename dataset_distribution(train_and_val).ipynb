{
  "nbformat": 4,
  "nbformat_minor": 0,
  "metadata": {
    "colab": {
      "name": "dataset distribution(train and val)",
      "provenance": []
    },
    "kernelspec": {
      "name": "python3",
      "display_name": "Python 3"
    },
    "language_info": {
      "name": "python"
    }
  },
  "cells": [
    {
      "cell_type": "code",
      "execution_count": 5,
      "metadata": {
        "colab": {
          "base_uri": "https://localhost:8080/"
        },
        "id": "TPoXjPAygjMw",
        "outputId": "5e1862ce-882c-4db7-d337-6cd8e5bcb9cb"
      },
      "outputs": [
        {
          "output_type": "stream",
          "name": "stdout",
          "text": [
            "directories already exist\n",
            "Train: 1425\n",
            "Validation: 357\n"
          ]
        }
      ],
      "source": [
        "import os\n",
        "import glob\n",
        "import shutil\n",
        "from sklearn import model_selection\n",
        "#images\n",
        "DATA_DIR = \"/content/drive/MyDrive/\"\n",
        "TRAIN_DIR = DATA_DIR + \"/train\"\n",
        "VAL_DIR = DATA_DIR + \"/val\"\n",
        "\n",
        "NUM_TRAIN_EXAMPLES = 0\n",
        "NUM_VAL_EXAMPLES = 0\n",
        "\n",
        "if not os.path.exists(TRAIN_DIR) or  not os.path.exists(VAL_DIR):\n",
        "    data = glob.glob(DATA_DIR + \"/images/*.jpg\")\n",
        "    print(len(data))\n",
        "    print(\"creating data directories for training and validation\")\n",
        "    train, val = model_selection.train_test_split(data, test_size=0.2)\n",
        "    os.makedirs(TRAIN_DIR)\n",
        "    os.makedirs(VAL_DIR)\n",
        "\n",
        "    for e in train:\n",
        "        shutil.move(e, TRAIN_DIR + \"/\" + e.split(\"/\")[-1] )\n",
        "    for e in val:\n",
        "        shutil.move(e, VAL_DIR + \"/\" + e.split(\"/\")[-1] )\n",
        "else:\n",
        "    print(\"directories already exist\")\n",
        "    NUM_TRAIN_EXAMPLES = len(glob.glob(TRAIN_DIR+\"/*.jpg\"))\n",
        "    print(\"Train:\", NUM_TRAIN_EXAMPLES )\n",
        "    NUM_VAL_EXAMPLES = len(glob.glob(VAL_DIR+\"/*.jpg\"))\n",
        "    print(\"Validation:\",NUM_VAL_EXAMPLES )"
      ]
    },
    {
      "cell_type": "code",
      "source": [
        ""
      ],
      "metadata": {
        "id": "n7mT_N4Hgktv"
      },
      "execution_count": null,
      "outputs": []
    }
  ]
}